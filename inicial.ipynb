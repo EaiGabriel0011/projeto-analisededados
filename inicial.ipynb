{
 "cells": [
  {
   "cell_type": "markdown",
   "metadata": {},
   "source": [
    "# Python Insights - Analisando Dados com Python\n",
    "\n",
    "### Case - Cancelamento de Clientes\n",
    "\n",
    "Você foi contratado por uma empresa com mais de 800 mil clientes para um projeto de Dados. Recentemente a empresa percebeu que da sua base total de clientes, a maioria são clientes inativos, ou seja, que já cancelaram o serviço.\n",
    "\n",
    "Precisando melhorar seus resultados ela quer conseguir entender os principais motivos desses cancelamentos e quais as ações mais eficientes para reduzir esse número.\n",
    "\n",
    "Base de dados e arquivos: https://drive.google.com/drive/folders/1uDesZePdkhiraJmiyeZ-w5tfc8XsNYFZ?usp=drive_link"
   ]
  },
  {
   "cell_type": "code",
   "execution_count": null,
   "metadata": {},
   "outputs": [
    {
     "ename": "NameError",
     "evalue": "name 'pd' is not defined",
     "output_type": "error",
     "traceback": [
      "\u001b[1;31m---------------------------------------------------------------------------\u001b[0m",
      "\u001b[1;31mNameError\u001b[0m                                 Traceback (most recent call last)",
      "Cell \u001b[1;32mIn[4], line 16\u001b[0m\n\u001b[0;32m      1\u001b[0m \u001b[38;5;66;03m#!pip install plotly Instalar a biblioteca plotly.\u001b[39;00m\n\u001b[0;32m      2\u001b[0m \u001b[38;5;66;03m#!pip install pandas  Instalar a biblioteca pandas.\u001b[39;00m\n\u001b[0;32m      3\u001b[0m \u001b[38;5;66;03m#!pip install openpyxl  Instalar a biblioteca openpyxl.\u001b[39;00m\n\u001b[1;32m   (...)\u001b[0m\n\u001b[0;32m     12\u001b[0m \n\u001b[0;32m     13\u001b[0m \u001b[38;5;66;03m# Passo 1: Importar a base de dados.\u001b[39;00m\n\u001b[0;32m     14\u001b[0m \u001b[38;5;28;01mimport\u001b[39;00m \u001b[38;5;21;01mpandas\u001b[39;00m \n\u001b[1;32m---> 16\u001b[0m tabela \u001b[38;5;241m=\u001b[39m \u001b[43mpd\u001b[49m\u001b[38;5;241m.\u001b[39mread_csv(\u001b[38;5;124m'\u001b[39m\u001b[38;5;124mcancelamentos.csv\u001b[39m\u001b[38;5;124m'\u001b[39m)\n\u001b[0;32m     18\u001b[0m \u001b[38;5;28mprint\u001b[39m(tabela)\n",
      "\u001b[1;31mNameError\u001b[0m: name 'pd' is not defined"
     ]
    }
   ],
   "source": [
    "#!pip install plotly Instalar a biblioteca plotly.\n",
    "#!pip install pandas  Instalar a biblioteca pandas.\n",
    "#!pip install openpyxl  Instalar a biblioteca openpyxl.\n",
    "#!pip install numpy  Instalar a biblioteca numpy.\n",
    "#!pip install nbformat  Instalar a biblioteca nbformat.\n",
    "#!pip install ipykernel  Instalar a biblioteca ipykernel.\n",
    "\n",
    "# pandas -> Base de dados.\n",
    "# plotly -> Criar gráficos.\n",
    "\n",
    "# Passo a Passo.\n",
    "\n",
    "# Passo 1: Importar a base de dados.\n",
    "import pandas \n",
    "\n",
    "tabela = pandas.read_csv('cancelamentos.csv')\n",
    "\n",
    "print(tabela)\n",
    "\n"
   ]
  },
  {
   "cell_type": "code",
   "execution_count": null,
   "metadata": {},
   "outputs": [],
   "source": [
    "# Passo 2: Vizualizar a base de dados.(2 objetivos: entender a base de dados e entender o problema)\n",
    "# Passo 3: Realizar a limpeza e o tratamento dos dados.\n",
    "# Passo 4: Análise exploratória dos dados. (quantos clientes, quantos produtos, quais os produtos mais vendidos, quais os clientes que mais compram, qual a receita total, qual a receita por produto, qual a receita por cliente, etc)\n",
    "# Passo 5: Análise a causa dos cancelamentos dos clientes. (Análise detalhada)"
   ]
  }
 ],
 "metadata": {
  "kernelspec": {
   "display_name": "base",
   "language": "python",
   "name": "python3"
  },
  "language_info": {
   "codemirror_mode": {
    "name": "ipython",
    "version": 3
   },
   "file_extension": ".py",
   "mimetype": "text/x-python",
   "name": "python",
   "nbconvert_exporter": "python",
   "pygments_lexer": "ipython3",
   "version": "3.12.4"
  },
  "orig_nbformat": 4
 },
 "nbformat": 4,
 "nbformat_minor": 2
}
